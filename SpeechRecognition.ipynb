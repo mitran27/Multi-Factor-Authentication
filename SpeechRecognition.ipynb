{
  "nbformat": 4,
  "nbformat_minor": 0,
  "metadata": {
    "colab": {
      "name": "SpeechRecognition.ipynb",
      "provenance": [],
      "collapsed_sections": []
    },
    "kernelspec": {
      "name": "python3",
      "display_name": "Python 3"
    }
  },
  "cells": [
    {
      "cell_type": "code",
      "metadata": {
        "id": "5DPgd0rNHK0J",
        "colab": {
          "base_uri": "https://localhost:8080/"
        },
        "outputId": "cf74e7ca-635f-4fcf-901a-42f73fa1afd2"
      },
      "source": [
        "!pip install torch==1.6.0+cu101 torchvision==0.7.0+cu101 -f https://download.pytorch.org/whl/torch_stable.html"
      ],
      "execution_count": null,
      "outputs": [
        {
          "output_type": "stream",
          "text": [
            "Looking in links: https://download.pytorch.org/whl/torch_stable.html\n",
            "Collecting torch==1.6.0+cu101\n",
            "\u001b[?25l  Downloading https://download.pytorch.org/whl/cu101/torch-1.6.0%2Bcu101-cp37-cp37m-linux_x86_64.whl (708.0MB)\n",
            "\u001b[K     |████████████████████████████████| 708.0MB 18kB/s \n",
            "\u001b[?25hCollecting torchvision==0.7.0+cu101\n",
            "\u001b[?25l  Downloading https://download.pytorch.org/whl/cu101/torchvision-0.7.0%2Bcu101-cp37-cp37m-linux_x86_64.whl (5.9MB)\n",
            "\u001b[K     |████████████████████████████████| 5.9MB 60.1MB/s \n",
            "\u001b[?25hRequirement already satisfied: future in /usr/local/lib/python3.7/dist-packages (from torch==1.6.0+cu101) (0.16.0)\n",
            "Requirement already satisfied: numpy in /usr/local/lib/python3.7/dist-packages (from torch==1.6.0+cu101) (1.19.5)\n",
            "Requirement already satisfied: pillow>=4.1.1 in /usr/local/lib/python3.7/dist-packages (from torchvision==0.7.0+cu101) (7.1.2)\n",
            "\u001b[31mERROR: torchtext 0.9.1 has requirement torch==1.8.1, but you'll have torch 1.6.0+cu101 which is incompatible.\u001b[0m\n",
            "Installing collected packages: torch, torchvision\n",
            "  Found existing installation: torch 1.8.1+cu101\n",
            "    Uninstalling torch-1.8.1+cu101:\n",
            "      Successfully uninstalled torch-1.8.1+cu101\n",
            "  Found existing installation: torchvision 0.9.1+cu101\n",
            "    Uninstalling torchvision-0.9.1+cu101:\n",
            "      Successfully uninstalled torchvision-0.9.1+cu101\n",
            "Successfully installed torch-1.6.0+cu101 torchvision-0.7.0+cu101\n"
          ],
          "name": "stdout"
        }
      ]
    },
    {
      "cell_type": "code",
      "metadata": {
        "id": "DrPOCJ7OHoVf"
      },
      "source": [
        "from torch.nn import Module,Linear,Dropout,LayerNorm,Conv1d,GroupNorm,ModuleList\n",
        "import torch.nn.functional as F\n",
        "from torch.nn.utils import weight_norm\n",
        "from torch import bmm as matmul\n",
        "import torch\n",
        "import numpy as np\n",
        "import librosa\n",
        "import math"
      ],
      "execution_count": null,
      "outputs": []
    },
    {
      "cell_type": "code",
      "metadata": {
        "id": "oBCGpmbGHrZK"
      },
      "source": [
        "def gelu(x):\n",
        "    return 0.5 * x * (1 + torch.tanh(math.sqrt(2 / math.pi) * (x + 0.044715 * torch.pow(x, 3))))"
      ],
      "execution_count": null,
      "outputs": []
    },
    {
      "cell_type": "code",
      "metadata": {
        "id": "KfIYElRsHsEE"
      },
      "source": [
        "class GroupNormConvLayer(Module):\n",
        "   def __init__(self,config,layer_id):\n",
        "     super().__init__()\n",
        "     self.conv= Conv1d(1, config.no_filters, kernel_size=(config.conv_kernel[layer_id],), stride=(config.conv_stride[layer_id],), bias=False)\n",
        "     self.dropout= Dropout(p=0.0, inplace=False)\n",
        "     self.layer_norm= GroupNorm( config.no_filters,  config.no_filters, eps=1e-05, affine=True)\n",
        "     self.activation=gelu\n",
        "   def forward(self,X):\n",
        "     y=self.conv(X)\n",
        "     y=self.dropout(y)\n",
        "     y=self.layer_norm(y)    \n",
        "     y=self.activation(y)\n",
        "     return y\n",
        "class ConvLayerNoNorm(Module):\n",
        "  def __init__(self,config,layer_id):\n",
        "     super().__init__()\n",
        "     \n",
        "     self.conv=Conv1d( config.no_filters, config.no_filters, kernel_size=(config.conv_kernel[layer_id],), stride=(config.conv_stride[layer_id],), bias=False)\n",
        "     self.dropout=Dropout(p=0.0, inplace=False)\n",
        "     self.activation=gelu\n",
        "\n",
        "  def forward(self,X):\n",
        "    y=self.conv(X)\n",
        "    y=self.dropout(y)\n",
        "    y=self.activation(y)\n",
        "\n",
        "    return  y "
      ],
      "execution_count": null,
      "outputs": []
    },
    {
      "cell_type": "code",
      "metadata": {
        "id": "XxTgJy2lHuAL"
      },
      "source": [
        "class Convolutional_Embedding(Module):\n",
        "    def __init__(self, config):\n",
        "        super().__init__()\n",
        "        self.conv = Conv1d(config.dimension,config.dimension,kernel_size=config.num_conv_pos_embeddings,padding=config.num_conv_pos_embeddings // 2,groups=config.num_conv_pos_embedding_groups,)\n",
        "        self.conv = weight_norm(self.conv, name=\"weight\", dim=2)\n",
        "        self.padding = PadLayer(config.num_conv_pos_embeddings)\n",
        "        self.activation = gelu\n",
        "\n",
        "    def forward(self, X):\n",
        "        X = X.transpose(1, 2)\n",
        "\n",
        "        y = self.conv(X)\n",
        "        y = self.padding(y)\n",
        "        y = self.activation(y)\n",
        "\n",
        "        y = y.transpose(1, 2)\n",
        "\n",
        "        return y\n"
      ],
      "execution_count": null,
      "outputs": []
    },
    {
      "cell_type": "code",
      "metadata": {
        "id": "OwOwaj72HxUd"
      },
      "source": [
        "class PadLayer(Module):\n",
        "    def __init__(self, num_conv_pos_embeddings):\n",
        "        super().__init__()\n",
        "        self.num_pad_remove = 1 if num_conv_pos_embeddings % 2 == 0 else 0\n",
        "\n",
        "    def forward(self, hidden_states):\n",
        "        if self.num_pad_remove > 0:\n",
        "            hidden_states = hidden_states[:, :, : -self.num_pad_remove]\n",
        "        return hidden_states"
      ],
      "execution_count": null,
      "outputs": []
    },
    {
      "cell_type": "code",
      "metadata": {
        "id": "6uRLtmyFHzJq"
      },
      "source": [
        "class FeatureExtractor(Module):\n",
        "  def __init__(self,config):\n",
        "      # 1st layer is group norm and next 6 layers do not have norm (ccording to wav2vec2)\n",
        "      super().__init__()\n",
        "      Fe=[]\n",
        "      Gnlayer=GroupNormConvLayer(config, layer_id=0)\n",
        "      \n",
        "      Fe.append(Gnlayer)\n",
        "      for i in range(1,5):\n",
        "          Fe.append(ConvLayerNoNorm(config, layer_id=2) )\n",
        "      for i in range(5,7):\n",
        "          Fe.append(ConvLayerNoNorm(config, layer_id=6))    \n",
        "         \n",
        "\n",
        "      self.conv_layers=ModuleList(Fe)\n",
        "  def forward(self,X):\n",
        "        y = X[:, None]\n",
        "        for layer in self.conv_layers:\n",
        "              y = layer(y)\n",
        "\n",
        "        return y    \n",
        "    "
      ],
      "execution_count": null,
      "outputs": []
    },
    {
      "cell_type": "code",
      "metadata": {
        "id": "KaMKdRfEHz1D"
      },
      "source": [
        "class FeatureProjection(Module): # convert the filters for each sample made by conv2d to projection(vector must represent the embedding of the sample)\n",
        "    def __init__(self,config):\n",
        "\n",
        "        super().__init__()\n",
        "        self.layer_norm = LayerNorm(config.no_filters, eps=config.layer_norm_eps)\n",
        "        self.projection = Linear(config.no_filters, config.dimension) # convert features for sample to embedding of the sample\n",
        "        self.dropout =    Dropout(config.feat_extract_dropout)\n",
        "\n",
        "    def forward(self, X):\n",
        "        y = self.layer_norm(X)\n",
        "        y = self.projection(y)\n",
        "        y = self.dropout(y)\n",
        "\n",
        "        return y"
      ],
      "execution_count": null,
      "outputs": []
    },
    {
      "cell_type": "code",
      "metadata": {
        "id": "8UC-m6QYH2b9"
      },
      "source": [
        "class Attention(Module):\n",
        "\n",
        "    def __init__(\n",
        "        self,\n",
        "        dimension,num_heads,dropout\n",
        "    ):\n",
        "        super().__init__()\n",
        "        self.num_heads = num_heads\n",
        "        self.vec_dim = dimension // num_heads\n",
        "        self.dropout=dropout\n",
        "        self.scaling = self.vec_dim ** 0.5\n",
        "\n",
        "        self.k_proj = Linear(dimension, dimension, bias=True)\n",
        "        self.v_proj = Linear(dimension, dimension, bias=True)\n",
        "        self.q_proj = Linear(dimension, dimension, bias=True)\n",
        "\n",
        "        self.out_proj = Linear(dimension, dimension, bias=True)\n",
        "\n",
        "\n",
        "    def split_heads(self,tensor):\n",
        "\n",
        "         bz,seqlen,dim=tensor.shape\n",
        "         assert(self.vec_dim*self.num_heads==dim)\n",
        "         tensor=tensor.view(bz,seqlen,self.num_heads,self.vec_dim)\n",
        "         tensor=tensor.transpose(1,2)\n",
        "         tensor=tensor.view(bz*self.num_heads,seqlen,self.vec_dim)\n",
        "\n",
        "         return tensor\n",
        "    def concat_heads(self,tensor):\n",
        "\n",
        "        bz_x_nohead,seqlen,vec_dim=tensor.shape\n",
        "        assert(vec_dim==self.vec_dim)\n",
        "        assert(bz_x_nohead%self.num_heads==0)\n",
        "        bz= bz_x_nohead//self.num_heads    \n",
        "        tensor=tensor.view(bz,self.num_heads,seqlen,vec_dim)\n",
        "        tensor=tensor.transpose(1,2)\n",
        "        tensor=tensor.reshape(bz,seqlen,self.num_heads*self.vec_dim)\n",
        "\n",
        "        return tensor\n",
        "\n",
        "\n",
        "    def forward(\n",
        "        self,\n",
        "        hidden_states\n",
        "    ):\n",
        "\n",
        "        \n",
        "        bsz, seqlen, embed_dim = hidden_states.shape\n",
        "\n",
        "        query_states = self.q_proj(hidden_states)\n",
        "       \n",
        "        key_states = self.k_proj(hidden_states)\n",
        "        value_states =self.v_proj(hidden_states)\n",
        "\n",
        "\n",
        "        query_states = self.split_heads(query_states)\n",
        "        key_states =   self.split_heads(key_states)\n",
        "        value_states = self.split_heads(value_states)\n",
        "\n",
        "        attn_weights = matmul(query_states, key_states.transpose(1, 2)) / self.scaling            \n",
        "\n",
        "        attn_probs = F.softmax(attn_weights, dim=-1)\n",
        "\n",
        "        #attn_probs = F.dropout(attn_weights, p=self.dropout, training=self.training)\n",
        "\n",
        "        attn_output = matmul(attn_probs, value_states)\n",
        "\n",
        "        attn_output = self.concat_heads(attn_output)\n",
        "           \n",
        "        attn_output = self.out_proj(attn_output)\n",
        "\n",
        "        return attn_output\n",
        "\n"
      ],
      "execution_count": null,
      "outputs": []
    },
    {
      "cell_type": "code",
      "metadata": {
        "id": "vRc1U3EPH4Dj"
      },
      "source": [
        "\n",
        "class Feed_Forward(Module):\n",
        "    def __init__(self,config):\n",
        "      super().__init__()\n",
        "      self.intermediate_dropout=Dropout(p=config.hidden_dropout_prob, inplace=False)\n",
        "      self.intermediate_dense=Linear(config.dimension, config.intermediate_size, bias=True)\n",
        "      self.activation=gelu\n",
        "      self.output_dense=Linear(config.intermediate_size,config.dimension, bias=True)\n",
        "      self.output_dropout=Dropout(p=config.hidden_dropout_prob, inplace=False)\n",
        "    def forward(self,X):\n",
        "\n",
        "      y=self.intermediate_dense(X)\n",
        "      y=self.activation(y)\n",
        "      y=self.intermediate_dropout(y)\n",
        "      y=self.output_dense(y)\n",
        "      y=self.output_dropout(y)\n",
        "      \n",
        "      return y        "
      ],
      "execution_count": null,
      "outputs": []
    },
    {
      "cell_type": "code",
      "metadata": {
        "id": "65mQPkQCH57O"
      },
      "source": [
        "class EncoderLayer(Module):\n",
        "   def __init__(self,config):\n",
        "      super().__init__() \n",
        "      self.attention=Attention(config.dimension,\n",
        "          config.num_attention_heads,config.hidden_dropout_prob\n",
        "          )\n",
        "      self.dropout=Dropout(config.hidden_dropout_prob)\n",
        "      self.feed_forward=Feed_Forward(config)\n",
        "      self.layer_norm=LayerNorm(config.dimension, eps=config.layer_norm_eps)\n",
        "      self.final_layer_norm=LayerNorm(config.dimension, eps=config.layer_norm_eps)\n",
        "\n",
        "   def forward(self,X):\n",
        "     \n",
        "       y=self.attention(X)\n",
        "       y=self.dropout(y)\n",
        "       y=self.layer_norm(X+y)\n",
        "\n",
        "       y1=self.feed_forward(y)\n",
        "       y=self.final_layer_norm(y+y1)\n",
        "\n",
        "       return y      "
      ],
      "execution_count": null,
      "outputs": []
    },
    {
      "cell_type": "code",
      "metadata": {
        "id": "A7G069J3PFm4"
      },
      "source": [
        "class Encoder(Module):\n",
        "    def __init__(self,config):\n",
        "        super().__init__()\n",
        "        \n",
        "        self.pos_conv_embed=Convolutional_Embedding(config)\n",
        "        self.layer_norm = LayerNorm(config.dimension, eps=config.layer_norm_eps)\n",
        "        self.dropout = Dropout(config.hidden_dropout_prob)\n",
        "        self.layers = ModuleList([EncoderLayer(config) for _ in range(config.no_encoders)])\n",
        "    def forward(self,X):\n",
        "        \n",
        "        position_embeddings = self.pos_conv_embed(X)\n",
        "        y = X + position_embeddings\n",
        "        y = self.layer_norm(y)\n",
        "        y = self.dropout(y)\n",
        "\n",
        "        for layer in self.layers:            \n",
        "            y = layer(y)\n",
        "            \n",
        "        return y "
      ],
      "execution_count": null,
      "outputs": []
    },
    {
      "cell_type": "code",
      "metadata": {
        "id": "IK3d1lmwH_2L"
      },
      "source": [
        "class Transformer(Module):\n",
        "  def __init__(self,config):\n",
        "    super().__init__()\n",
        "    self.feature_extractor=FeatureExtractor(config)\n",
        "    self.feature_projection=FeatureProjection(config)\n",
        "    self.encoder=Encoder(config)\n",
        "  def forward(self,X):\n",
        "    \n",
        "    y=self.feature_extractor(X)\n",
        "    # feature projector takes the filters(512) of the sample in time domain , the position(i) for 512 filters  are converted to the vector projection for the sample (i)\n",
        "    y=y.transpose(1,2)# change the filter to latent dimension\n",
        "    y=self.feature_projection(y)\n",
        "    y=self.encoder(y)\n",
        "\n",
        "    return y"
      ],
      "execution_count": null,
      "outputs": []
    },
    {
      "cell_type": "code",
      "metadata": {
        "id": "oRxm0GZ8IBew"
      },
      "source": [
        "class SpeechRecognition(Module):\n",
        "    def __init__(self, config):\n",
        "        super().__init__()\n",
        "\n",
        "        self.wav2vec2 = Transformer(config)\n",
        "        self.dropout = Dropout(config.hidden_dropout_prob)\n",
        "        self.lm_head = Linear(config.dimension, config.vocab_size)\n",
        "\n",
        "\n",
        "    def forward(\n",
        "        self,\n",
        "        X,\n",
        "        \n",
        "    ):\n",
        "       \n",
        "\n",
        "        y = self.wav2vec2(X)\n",
        "        y = y[0]\n",
        "        y = self.dropout(y)\n",
        "\n",
        "        y = self.lm_head(y)\n",
        "        return y"
      ],
      "execution_count": null,
      "outputs": []
    },
    {
      "cell_type": "code",
      "metadata": {
        "id": "wOliQT6zIDcg"
      },
      "source": [
        "\n",
        "class Config():\n",
        " \n",
        "   def __init__(self):\n",
        "        self.vocab_size=32\n",
        "        self.dimension=768\n",
        "        self.no_encoders=12\n",
        "        self.num_attention_heads=12\n",
        "        self.intermediate_size=3072\n",
        "        self.hidden_dropout_prob=0.0\n",
        "        self.attention_probs_dropout_prob=0.0, \n",
        "        self.layer_norm_eps=1e-5\n",
        "        self.feat_extract_dropout=0.0\n",
        "        self.no_filters=512\n",
        "        self.conv_stride=(5, 2, 2, 2, 2, 2, 2)\n",
        "        self.conv_kernel=(10, 3, 3, 3, 3, 2, 2)\n",
        "        self.conv_bias=False\n",
        "        self.num_conv_pos_embeddings=128\n",
        "        self.num_conv_pos_embedding_groups=16    "
      ],
      "execution_count": null,
      "outputs": []
    },
    {
      "cell_type": "code",
      "metadata": {
        "id": "DeZMPy14IEBX",
        "colab": {
          "base_uri": "https://localhost:8080/"
        },
        "outputId": "9b052e83-7353-4099-bfbd-73019a7611a4"
      },
      "source": [
        "audio, samplerate = librosa.load('/content/drive/MyDrive/data/' + 's1bbaf2n.wav', sr = 16000)\n",
        "aud=np.array((audio)).reshape(1,len(audio))\n",
        "print(len(aud[0]))"
      ],
      "execution_count": null,
      "outputs": [
        {
          "output_type": "stream",
          "text": [
            "47648\n"
          ],
          "name": "stdout"
        }
      ]
    },
    {
      "cell_type": "code",
      "metadata": {
        "colab": {
          "base_uri": "https://localhost:8080/",
          "height": 75
        },
        "id": "EZ-NC7zS_4tC",
        "outputId": "7fde1110-ff73-48d9-c0b7-117de537926e"
      },
      "source": [
        "from IPython.display import Audio\n",
        "Audio(aud, rate=16000)\n"
      ],
      "execution_count": null,
      "outputs": [
        {
          "output_type": "execute_result",
          "data": {
            "text/html": [
              "\n",
              "                <audio controls=\"controls\" >\n",
              "                    <source src=\"data:audio/wav;base64,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\" type=\"audio/wav\" />\n",
              "                    Your browser does not support the audio element.\n",
              "                </audio>\n",
              "              "
            ],
            "text/plain": [
              "<IPython.lib.display.Audio object>"
            ]
          },
          "metadata": {
            "tags": []
          },
          "execution_count": 113
        }
      ]
    },
    {
      "cell_type": "markdown",
      "metadata": {
        "id": "tcwmopQfIN4X"
      },
      "source": [
        "weights at   https://github.com/pytorch/fairseq/blob/master/examples/wav2vec/README.md "
      ]
    },
    {
      "cell_type": "code",
      "metadata": {
        "id": "VGNCF1tcIKn9",
        "colab": {
          "base_uri": "https://localhost:8080/"
        },
        "outputId": "7e9865ce-990c-4719-81a2-77a1880332ac"
      },
      "source": [
        "if __name__ == '__main__':\n",
        "      con=Config()\n",
        "      model=SpeechRecognition(con)      \n",
        "      model.load_state_dict(torch.load('/content/drive/MyDrive/w2v.pth'))\n",
        "      model.eval()\n",
        "      op=model(torch.tensor(aud,dtype=torch.float))\n",
        "      predicted_ids = torch.argmax(op, dim =-1)\n",
        "\n",
        "      print(predicted_ids)"
      ],
      "execution_count": null,
      "outputs": [
        {
          "output_type": "stream",
          "text": [
            "tensor([ 0,  0,  0,  0,  0,  0,  0,  0,  0,  0,  0,  0,  0,  0,  0,  0,  0,  0,\n",
            "         0,  0,  0,  0,  0,  0,  0,  0,  0,  0,  0,  0,  0,  0,  0,  0,  0,  0,\n",
            "         0,  0,  0,  0,  0,  0,  0,  0,  0,  0,  0,  0,  0, 24,  0,  0,  0, 10,\n",
            "         0, 17,  0,  0,  0,  0, 24,  0,  0, 15,  0,  0, 16,  0,  0,  0,  4,  4,\n",
            "         0,  0,  0,  0,  0,  0, 20,  0,  0,  4,  0,  0,  6,  0,  0,  0,  0,  0,\n",
            "        16,  0,  0,  0,  0,  9,  0,  0,  0,  5,  0,  0,  0,  0,  4,  4,  0,  0,\n",
            "         0,  0,  0,  0,  0,  0,  0,  0,  0,  0,  0,  0,  0,  0,  0,  0,  0,  0,\n",
            "         0,  0,  0,  0,  0,  0,  0,  0,  0,  0,  0,  0,  0,  0,  0,  0,  0,  0,\n",
            "         0,  0,  0,  0])\n"
          ],
          "name": "stdout"
        }
      ]
    },
    {
      "cell_type": "code",
      "metadata": {
        "id": "QM4YJN6iStXb"
      },
      "source": [
        "def count_parameters(model):\n",
        "    total=sum(p.numel() for p in model.parameters())\n",
        "    trainable= sum(p.numel() for p in model.parameters() if p.requires_grad)\n",
        "    frozen=sum(p.numel() for p in model.parameters() if  p.requires_grad==False)\n",
        "    print(\"total parameters :\",total,\"\\ntrainable parameters :\",trainable,\"\\nfrozen parameters :\",frozen)"
      ],
      "execution_count": null,
      "outputs": []
    },
    {
      "cell_type": "code",
      "metadata": {
        "colab": {
          "base_uri": "https://localhost:8080/"
        },
        "id": "TWu-G7V_Q4jI",
        "outputId": "b5fe7842-eca2-4823-cffe-38ffdb823660"
      },
      "source": [
        "print(model)\n",
        "count_parameters(model)"
      ],
      "execution_count": null,
      "outputs": [
        {
          "output_type": "stream",
          "text": [
            "SpeechRecognition(\n",
            "  (wav2vec2): Transformer(\n",
            "    (feature_extractor): FeatureExtractor(\n",
            "      (conv_layers): ModuleList(\n",
            "        (0): GroupNormConvLayer(\n",
            "          (conv): Conv1d(1, 512, kernel_size=(10,), stride=(5,), bias=False)\n",
            "          (dropout): Dropout(p=0.0, inplace=False)\n",
            "          (layer_norm): GroupNorm(512, 512, eps=1e-05, affine=True)\n",
            "        )\n",
            "        (1): ConvLayerNoNorm(\n",
            "          (conv): Conv1d(512, 512, kernel_size=(3,), stride=(2,), bias=False)\n",
            "          (dropout): Dropout(p=0.0, inplace=False)\n",
            "        )\n",
            "        (2): ConvLayerNoNorm(\n",
            "          (conv): Conv1d(512, 512, kernel_size=(3,), stride=(2,), bias=False)\n",
            "          (dropout): Dropout(p=0.0, inplace=False)\n",
            "        )\n",
            "        (3): ConvLayerNoNorm(\n",
            "          (conv): Conv1d(512, 512, kernel_size=(3,), stride=(2,), bias=False)\n",
            "          (dropout): Dropout(p=0.0, inplace=False)\n",
            "        )\n",
            "        (4): ConvLayerNoNorm(\n",
            "          (conv): Conv1d(512, 512, kernel_size=(3,), stride=(2,), bias=False)\n",
            "          (dropout): Dropout(p=0.0, inplace=False)\n",
            "        )\n",
            "        (5): ConvLayerNoNorm(\n",
            "          (conv): Conv1d(512, 512, kernel_size=(2,), stride=(2,), bias=False)\n",
            "          (dropout): Dropout(p=0.0, inplace=False)\n",
            "        )\n",
            "        (6): ConvLayerNoNorm(\n",
            "          (conv): Conv1d(512, 512, kernel_size=(2,), stride=(2,), bias=False)\n",
            "          (dropout): Dropout(p=0.0, inplace=False)\n",
            "        )\n",
            "      )\n",
            "    )\n",
            "    (feature_projection): FeatureProjection(\n",
            "      (layer_norm): LayerNorm((512,), eps=1e-05, elementwise_affine=True)\n",
            "      (projection): Linear(in_features=512, out_features=768, bias=True)\n",
            "      (dropout): Dropout(p=0.0, inplace=False)\n",
            "    )\n",
            "    (encoder): Encoder(\n",
            "      (pos_conv_embed): Convolutional_Embedding(\n",
            "        (conv): Conv1d(768, 768, kernel_size=(128,), stride=(1,), padding=(64,), groups=16)\n",
            "        (padding): PadLayer()\n",
            "      )\n",
            "      (layer_norm): LayerNorm((768,), eps=1e-05, elementwise_affine=True)\n",
            "      (dropout): Dropout(p=0.0, inplace=False)\n",
            "      (layers): ModuleList(\n",
            "        (0): EncoderLayer(\n",
            "          (attention): Attention(\n",
            "            (k_proj): Linear(in_features=768, out_features=768, bias=True)\n",
            "            (v_proj): Linear(in_features=768, out_features=768, bias=True)\n",
            "            (q_proj): Linear(in_features=768, out_features=768, bias=True)\n",
            "            (out_proj): Linear(in_features=768, out_features=768, bias=True)\n",
            "          )\n",
            "          (dropout): Dropout(p=0.0, inplace=False)\n",
            "          (feed_forward): Feed_Forward(\n",
            "            (intermediate_dropout): Dropout(p=0.0, inplace=False)\n",
            "            (intermediate_dense): Linear(in_features=768, out_features=3072, bias=True)\n",
            "            (output_dense): Linear(in_features=3072, out_features=768, bias=True)\n",
            "            (output_dropout): Dropout(p=0.0, inplace=False)\n",
            "          )\n",
            "          (layer_norm): LayerNorm((768,), eps=1e-05, elementwise_affine=True)\n",
            "          (final_layer_norm): LayerNorm((768,), eps=1e-05, elementwise_affine=True)\n",
            "        )\n",
            "        (1): EncoderLayer(\n",
            "          (attention): Attention(\n",
            "            (k_proj): Linear(in_features=768, out_features=768, bias=True)\n",
            "            (v_proj): Linear(in_features=768, out_features=768, bias=True)\n",
            "            (q_proj): Linear(in_features=768, out_features=768, bias=True)\n",
            "            (out_proj): Linear(in_features=768, out_features=768, bias=True)\n",
            "          )\n",
            "          (dropout): Dropout(p=0.0, inplace=False)\n",
            "          (feed_forward): Feed_Forward(\n",
            "            (intermediate_dropout): Dropout(p=0.0, inplace=False)\n",
            "            (intermediate_dense): Linear(in_features=768, out_features=3072, bias=True)\n",
            "            (output_dense): Linear(in_features=3072, out_features=768, bias=True)\n",
            "            (output_dropout): Dropout(p=0.0, inplace=False)\n",
            "          )\n",
            "          (layer_norm): LayerNorm((768,), eps=1e-05, elementwise_affine=True)\n",
            "          (final_layer_norm): LayerNorm((768,), eps=1e-05, elementwise_affine=True)\n",
            "        )\n",
            "        (2): EncoderLayer(\n",
            "          (attention): Attention(\n",
            "            (k_proj): Linear(in_features=768, out_features=768, bias=True)\n",
            "            (v_proj): Linear(in_features=768, out_features=768, bias=True)\n",
            "            (q_proj): Linear(in_features=768, out_features=768, bias=True)\n",
            "            (out_proj): Linear(in_features=768, out_features=768, bias=True)\n",
            "          )\n",
            "          (dropout): Dropout(p=0.0, inplace=False)\n",
            "          (feed_forward): Feed_Forward(\n",
            "            (intermediate_dropout): Dropout(p=0.0, inplace=False)\n",
            "            (intermediate_dense): Linear(in_features=768, out_features=3072, bias=True)\n",
            "            (output_dense): Linear(in_features=3072, out_features=768, bias=True)\n",
            "            (output_dropout): Dropout(p=0.0, inplace=False)\n",
            "          )\n",
            "          (layer_norm): LayerNorm((768,), eps=1e-05, elementwise_affine=True)\n",
            "          (final_layer_norm): LayerNorm((768,), eps=1e-05, elementwise_affine=True)\n",
            "        )\n",
            "        (3): EncoderLayer(\n",
            "          (attention): Attention(\n",
            "            (k_proj): Linear(in_features=768, out_features=768, bias=True)\n",
            "            (v_proj): Linear(in_features=768, out_features=768, bias=True)\n",
            "            (q_proj): Linear(in_features=768, out_features=768, bias=True)\n",
            "            (out_proj): Linear(in_features=768, out_features=768, bias=True)\n",
            "          )\n",
            "          (dropout): Dropout(p=0.0, inplace=False)\n",
            "          (feed_forward): Feed_Forward(\n",
            "            (intermediate_dropout): Dropout(p=0.0, inplace=False)\n",
            "            (intermediate_dense): Linear(in_features=768, out_features=3072, bias=True)\n",
            "            (output_dense): Linear(in_features=3072, out_features=768, bias=True)\n",
            "            (output_dropout): Dropout(p=0.0, inplace=False)\n",
            "          )\n",
            "          (layer_norm): LayerNorm((768,), eps=1e-05, elementwise_affine=True)\n",
            "          (final_layer_norm): LayerNorm((768,), eps=1e-05, elementwise_affine=True)\n",
            "        )\n",
            "        (4): EncoderLayer(\n",
            "          (attention): Attention(\n",
            "            (k_proj): Linear(in_features=768, out_features=768, bias=True)\n",
            "            (v_proj): Linear(in_features=768, out_features=768, bias=True)\n",
            "            (q_proj): Linear(in_features=768, out_features=768, bias=True)\n",
            "            (out_proj): Linear(in_features=768, out_features=768, bias=True)\n",
            "          )\n",
            "          (dropout): Dropout(p=0.0, inplace=False)\n",
            "          (feed_forward): Feed_Forward(\n",
            "            (intermediate_dropout): Dropout(p=0.0, inplace=False)\n",
            "            (intermediate_dense): Linear(in_features=768, out_features=3072, bias=True)\n",
            "            (output_dense): Linear(in_features=3072, out_features=768, bias=True)\n",
            "            (output_dropout): Dropout(p=0.0, inplace=False)\n",
            "          )\n",
            "          (layer_norm): LayerNorm((768,), eps=1e-05, elementwise_affine=True)\n",
            "          (final_layer_norm): LayerNorm((768,), eps=1e-05, elementwise_affine=True)\n",
            "        )\n",
            "        (5): EncoderLayer(\n",
            "          (attention): Attention(\n",
            "            (k_proj): Linear(in_features=768, out_features=768, bias=True)\n",
            "            (v_proj): Linear(in_features=768, out_features=768, bias=True)\n",
            "            (q_proj): Linear(in_features=768, out_features=768, bias=True)\n",
            "            (out_proj): Linear(in_features=768, out_features=768, bias=True)\n",
            "          )\n",
            "          (dropout): Dropout(p=0.0, inplace=False)\n",
            "          (feed_forward): Feed_Forward(\n",
            "            (intermediate_dropout): Dropout(p=0.0, inplace=False)\n",
            "            (intermediate_dense): Linear(in_features=768, out_features=3072, bias=True)\n",
            "            (output_dense): Linear(in_features=3072, out_features=768, bias=True)\n",
            "            (output_dropout): Dropout(p=0.0, inplace=False)\n",
            "          )\n",
            "          (layer_norm): LayerNorm((768,), eps=1e-05, elementwise_affine=True)\n",
            "          (final_layer_norm): LayerNorm((768,), eps=1e-05, elementwise_affine=True)\n",
            "        )\n",
            "        (6): EncoderLayer(\n",
            "          (attention): Attention(\n",
            "            (k_proj): Linear(in_features=768, out_features=768, bias=True)\n",
            "            (v_proj): Linear(in_features=768, out_features=768, bias=True)\n",
            "            (q_proj): Linear(in_features=768, out_features=768, bias=True)\n",
            "            (out_proj): Linear(in_features=768, out_features=768, bias=True)\n",
            "          )\n",
            "          (dropout): Dropout(p=0.0, inplace=False)\n",
            "          (feed_forward): Feed_Forward(\n",
            "            (intermediate_dropout): Dropout(p=0.0, inplace=False)\n",
            "            (intermediate_dense): Linear(in_features=768, out_features=3072, bias=True)\n",
            "            (output_dense): Linear(in_features=3072, out_features=768, bias=True)\n",
            "            (output_dropout): Dropout(p=0.0, inplace=False)\n",
            "          )\n",
            "          (layer_norm): LayerNorm((768,), eps=1e-05, elementwise_affine=True)\n",
            "          (final_layer_norm): LayerNorm((768,), eps=1e-05, elementwise_affine=True)\n",
            "        )\n",
            "        (7): EncoderLayer(\n",
            "          (attention): Attention(\n",
            "            (k_proj): Linear(in_features=768, out_features=768, bias=True)\n",
            "            (v_proj): Linear(in_features=768, out_features=768, bias=True)\n",
            "            (q_proj): Linear(in_features=768, out_features=768, bias=True)\n",
            "            (out_proj): Linear(in_features=768, out_features=768, bias=True)\n",
            "          )\n",
            "          (dropout): Dropout(p=0.0, inplace=False)\n",
            "          (feed_forward): Feed_Forward(\n",
            "            (intermediate_dropout): Dropout(p=0.0, inplace=False)\n",
            "            (intermediate_dense): Linear(in_features=768, out_features=3072, bias=True)\n",
            "            (output_dense): Linear(in_features=3072, out_features=768, bias=True)\n",
            "            (output_dropout): Dropout(p=0.0, inplace=False)\n",
            "          )\n",
            "          (layer_norm): LayerNorm((768,), eps=1e-05, elementwise_affine=True)\n",
            "          (final_layer_norm): LayerNorm((768,), eps=1e-05, elementwise_affine=True)\n",
            "        )\n",
            "        (8): EncoderLayer(\n",
            "          (attention): Attention(\n",
            "            (k_proj): Linear(in_features=768, out_features=768, bias=True)\n",
            "            (v_proj): Linear(in_features=768, out_features=768, bias=True)\n",
            "            (q_proj): Linear(in_features=768, out_features=768, bias=True)\n",
            "            (out_proj): Linear(in_features=768, out_features=768, bias=True)\n",
            "          )\n",
            "          (dropout): Dropout(p=0.0, inplace=False)\n",
            "          (feed_forward): Feed_Forward(\n",
            "            (intermediate_dropout): Dropout(p=0.0, inplace=False)\n",
            "            (intermediate_dense): Linear(in_features=768, out_features=3072, bias=True)\n",
            "            (output_dense): Linear(in_features=3072, out_features=768, bias=True)\n",
            "            (output_dropout): Dropout(p=0.0, inplace=False)\n",
            "          )\n",
            "          (layer_norm): LayerNorm((768,), eps=1e-05, elementwise_affine=True)\n",
            "          (final_layer_norm): LayerNorm((768,), eps=1e-05, elementwise_affine=True)\n",
            "        )\n",
            "        (9): EncoderLayer(\n",
            "          (attention): Attention(\n",
            "            (k_proj): Linear(in_features=768, out_features=768, bias=True)\n",
            "            (v_proj): Linear(in_features=768, out_features=768, bias=True)\n",
            "            (q_proj): Linear(in_features=768, out_features=768, bias=True)\n",
            "            (out_proj): Linear(in_features=768, out_features=768, bias=True)\n",
            "          )\n",
            "          (dropout): Dropout(p=0.0, inplace=False)\n",
            "          (feed_forward): Feed_Forward(\n",
            "            (intermediate_dropout): Dropout(p=0.0, inplace=False)\n",
            "            (intermediate_dense): Linear(in_features=768, out_features=3072, bias=True)\n",
            "            (output_dense): Linear(in_features=3072, out_features=768, bias=True)\n",
            "            (output_dropout): Dropout(p=0.0, inplace=False)\n",
            "          )\n",
            "          (layer_norm): LayerNorm((768,), eps=1e-05, elementwise_affine=True)\n",
            "          (final_layer_norm): LayerNorm((768,), eps=1e-05, elementwise_affine=True)\n",
            "        )\n",
            "        (10): EncoderLayer(\n",
            "          (attention): Attention(\n",
            "            (k_proj): Linear(in_features=768, out_features=768, bias=True)\n",
            "            (v_proj): Linear(in_features=768, out_features=768, bias=True)\n",
            "            (q_proj): Linear(in_features=768, out_features=768, bias=True)\n",
            "            (out_proj): Linear(in_features=768, out_features=768, bias=True)\n",
            "          )\n",
            "          (dropout): Dropout(p=0.0, inplace=False)\n",
            "          (feed_forward): Feed_Forward(\n",
            "            (intermediate_dropout): Dropout(p=0.0, inplace=False)\n",
            "            (intermediate_dense): Linear(in_features=768, out_features=3072, bias=True)\n",
            "            (output_dense): Linear(in_features=3072, out_features=768, bias=True)\n",
            "            (output_dropout): Dropout(p=0.0, inplace=False)\n",
            "          )\n",
            "          (layer_norm): LayerNorm((768,), eps=1e-05, elementwise_affine=True)\n",
            "          (final_layer_norm): LayerNorm((768,), eps=1e-05, elementwise_affine=True)\n",
            "        )\n",
            "        (11): EncoderLayer(\n",
            "          (attention): Attention(\n",
            "            (k_proj): Linear(in_features=768, out_features=768, bias=True)\n",
            "            (v_proj): Linear(in_features=768, out_features=768, bias=True)\n",
            "            (q_proj): Linear(in_features=768, out_features=768, bias=True)\n",
            "            (out_proj): Linear(in_features=768, out_features=768, bias=True)\n",
            "          )\n",
            "          (dropout): Dropout(p=0.0, inplace=False)\n",
            "          (feed_forward): Feed_Forward(\n",
            "            (intermediate_dropout): Dropout(p=0.0, inplace=False)\n",
            "            (intermediate_dense): Linear(in_features=768, out_features=3072, bias=True)\n",
            "            (output_dense): Linear(in_features=3072, out_features=768, bias=True)\n",
            "            (output_dropout): Dropout(p=0.0, inplace=False)\n",
            "          )\n",
            "          (layer_norm): LayerNorm((768,), eps=1e-05, elementwise_affine=True)\n",
            "          (final_layer_norm): LayerNorm((768,), eps=1e-05, elementwise_affine=True)\n",
            "        )\n",
            "      )\n",
            "    )\n",
            "  )\n",
            "  (dropout): Dropout(p=0.0, inplace=False)\n",
            "  (lm_head): Linear(in_features=768, out_features=32, bias=True)\n",
            ")\n",
            "total parameters : 94395552 \n",
            "trainable parameters : 94395552 \n",
            "frozen parameters : 0\n"
          ],
          "name": "stdout"
        }
      ]
    },
    {
      "cell_type": "code",
      "metadata": {
        "id": "JWqsvp2ZILtK"
      },
      "source": [
        "vocab_dict={0 :'' ,  \n",
        "1  : '<s>',\n",
        "2  : '</s>',\n",
        "3  : '<unk>',\n",
        "4  : ' ',\n",
        "5  : 'E',\n",
        "6  : 'T',\n",
        "7  : 'A',\n",
        "8  : 'O',\n",
        "9  : 'N',\n",
        "10 : 'I',\n",
        "11  : 'H',\n",
        "12  : 'S',\n",
        "13  : 'R',\n",
        "14  : 'D',\n",
        "15  : 'L',\n",
        "16  : 'U',\n",
        "17  : 'M',\n",
        "18  : 'W',\n",
        "19  : 'C',\n",
        "20  : 'F',\n",
        "21  : 'G',\n",
        "22  : 'Y',\n",
        "23  : 'P',\n",
        "24  : 'B',\n",
        "25  : 'V',\n",
        "26  : 'K',\n",
        "27  : \"'\",\n",
        "28  : 'X',\n",
        "29  : 'J',\n",
        "30  : 'Q',\n",
        "31  : 'Z'}\n",
        "\n",
        "def remove_adjacents(lst):\n",
        "  new_list=[]\n",
        "  for i in range(len(lst)-1):\n",
        "     \n",
        "     if(lst[i]!=lst[i+1]):\n",
        "         new_list.append(lst[i].item())\n",
        "  return   new_list  \n",
        "def token2word(tokens):\n",
        "  sentence=[]\n",
        "  for t in tokens:\n",
        "    sentence.append(vocab_dict[t])\n",
        "  return ''.join(sentence ) .lower()"
      ],
      "execution_count": null,
      "outputs": []
    },
    {
      "cell_type": "code",
      "metadata": {
        "id": "YWa1-WAAISpQ",
        "colab": {
          "base_uri": "https://localhost:8080/"
        },
        "outputId": "68e5b6d0-eeef-413a-f9af-4e713f038370"
      },
      "source": [
        "tok=remove_adjacents(predicted_ids)\n",
        "words=token2word(tok)\n",
        "print(words) "
      ],
      "execution_count": null,
      "outputs": [
        {
          "output_type": "stream",
          "text": [
            "bimblu f tune \n"
          ],
          "name": "stdout"
        }
      ]
    },
    {
      "cell_type": "code",
      "metadata": {
        "id": "YDqFTJwmmfRY"
      },
      "source": [
        "def levenshtein(s, t):\n",
        "  \n",
        "    rows = len(s)+1\n",
        "    cols = len(t)+1\n",
        "    distance = np.zeros((rows,cols),dtype = int)\n",
        " \n",
        "    for i in range(1, rows):\n",
        "        distance[i][0] = i\n",
        "    for k in range(1,cols):            \n",
        "        distance[0][k] = k\n",
        "   \n",
        "    for col in range(1, cols):\n",
        "        for row in range(1, rows):\n",
        "            if s[row-1] == t[col-1]:\n",
        "                cost = 0 \n",
        "            else:\n",
        "                cost = 2\n",
        "              \n",
        "            distance[row][col] = min(distance[row-1][col] + 1,      # Cost of deletions\n",
        "                                 distance[row][col-1] + 1,          # Cost of insertions\n",
        "                                 distance[row-1][col-1] + cost)     # Cost of substitutions\n",
        "    Ratio = ((len(s)+len(t)) - distance[row][col]) / (len(s)+len(t))\n",
        "    return Ratio"
      ],
      "execution_count": null,
      "outputs": []
    },
    {
      "cell_type": "code",
      "metadata": {
        "colab": {
          "base_uri": "https://localhost:8080/"
        },
        "id": "DExrULPGl1vm",
        "outputId": "ca2f5e1e-fcce-407d-f3d8-833e4be448da"
      },
      "source": [
        "import os\n",
        "path='/content/drive/MyDrive/data/'\n",
        "for i in os.listdir(path):\n",
        "  if(i.endswith('wav')):  \n",
        "\n",
        "        audio, samplerate = librosa.load(path + i, sr = 16000)\n",
        "        text=open(path + i.replace('wav','txt')).read().replace(' ','')\n",
        "\n",
        "        aud=np.array((audio)).reshape(1,len(audio))\n",
        "        model.eval()\n",
        "        op=model(torch.tensor(aud,dtype=torch.float))\n",
        "        predicted_ids = torch.argmax(op, dim =-1)\n",
        "        tok=remove_adjacents(predicted_ids)\n",
        "        words=token2word(tok).replace(' ','')\n",
        "\n",
        "        print('\\ngroundtruth  :',text)\n",
        "        print('prediction  :',words)\n",
        "        print('score :',levenshtein(text,words))"
      ],
      "execution_count": null,
      "outputs": [
        {
          "output_type": "stream",
          "text": [
            "\n",
            "groundtruth  : binblueatstwoplease\n",
            "prediction  : bimblustuples\n",
            "score : 0.6875\n",
            "\n",
            "groundtruth  : binblueatsonesoon\n",
            "prediction  : bimbluesbonsun\n",
            "score : 0.7096774193548387\n",
            "\n",
            "groundtruth  : binblueatlnineagain\n",
            "prediction  : thenblewatlnineagain\n",
            "score : 0.8205128205128205\n",
            "\n",
            "groundtruth  : binblueatleightplease\n",
            "prediction  : bimblualaples\n",
            "score : 0.6470588235294118\n",
            "\n",
            "groundtruth  : binblueatlsevensoon\n",
            "prediction  : bimbleualsevensoon\n",
            "score : 0.8648648648648649\n",
            "\n",
            "groundtruth  : binblueatlsixnow\n",
            "prediction  : binblueelsixnow\n",
            "score : 0.9032258064516129\n",
            "\n",
            "groundtruth  : binblueatfthreesoon\n",
            "prediction  : vimbleuefresoon\n",
            "score : 0.7058823529411765\n",
            "\n",
            "groundtruth  : binblueatffourplease\n",
            "prediction  : bimbuffauplis\n",
            "score : 0.6060606060606061\n",
            "\n",
            "groundtruth  : binblueatffiveagain\n",
            "prediction  : thenblewatffivergen\n",
            "score : 0.6842105263157895\n",
            "\n",
            "groundtruth  : binblueatftwonow\n",
            "prediction  : bimbluftune\n",
            "score : 0.5925925925925926\n",
            "\n",
            "groundtruth  : binblueatzsixplease\n",
            "prediction  : bimblueitsatsixpleese\n",
            "score : 0.8\n",
            "\n",
            "groundtruth  : binblueatzfivesoon\n",
            "prediction  : bimblewatsaidfisoon\n",
            "score : 0.7027027027027027\n",
            "\n",
            "groundtruth  : binblueatzfournow\n",
            "prediction  : bimblewatzadfounow\n",
            "score : 0.8\n",
            "\n",
            "groundtruth  : binblueatszeronow\n",
            "prediction  : bimbluessirona\n",
            "score : 0.6451612903225806\n",
            "\n",
            "groundtruth  : binblueatsthreeagain\n",
            "prediction  : bimblewesfreyagain\n",
            "score : 0.6842105263157895\n"
          ],
          "name": "stdout"
        }
      ]
    },
    {
      "cell_type": "code",
      "metadata": {
        "id": "1bGU79cmmNF0"
      },
      "source": [
        ""
      ],
      "execution_count": null,
      "outputs": []
    }
  ]
}